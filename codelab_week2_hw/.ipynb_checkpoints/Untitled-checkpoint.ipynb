{
 "cells": [
  {
   "cell_type": "code",
   "execution_count": 1,
   "metadata": {},
   "outputs": [
    {
     "name": "stdout",
     "output_type": "stream",
     "text": [
      "loop count = 288 \tw:[5.505914, 1.988572]\n",
      "intercept = 5.57234812541 slope = 1.98388985961\n"
     ]
    },
    {
     "data": {
      "image/png": "[encoded data removed]",
      "text/plain": [
       "<matplotlib.figure.Figure at 0x7f40d64953d0>"
      ]
     },
     "metadata": {},
     "output_type": "display_data"
    },
    {
     "data": {
      "image/png": "[encoded data removed]",
      "text/plain": [
       "<matplotlib.figure.Figure at 0x7f410accf250>"
      ]
     },
     "metadata": {},
     "output_type": "display_data"
    }
   ],
   "source": [
    "# coding=utf-8\n",
    "\n",
    "import numpy as np\n",
    "from scipy import stats\n",
    "import matplotlib.pyplot as plt\n",
    "import pandas as pd\n",
    "\n",
    "x = np.arange(0., 10., 0.2)\n",
    "m = len(x)\n",
    "x0 = np.full(m, 1.0)\n",
    "input_data = np.vstack([x0,x]).T\n",
    "target_data = 2 * x + 5 + np.random.rand(m)\n",
    "\n",
    "# print input_data\n",
    "# print target_data\n",
    "\n",
    "loop_max = 1000\n",
    "epsilon = 1e-3\n",
    "\n",
    "\n",
    "np.random.seed(0)  #每次生成相同的随机数\n",
    "w = np.random.randn(2)  #正太分布随机数\n",
    "\n",
    "alpha = 0.001\n",
    "diff = 0.\n",
    "error = np.zeros(2)\n",
    "count = 0\n",
    "finish = 0\n",
    "error_list = []\n",
    "# 定义batch的大小\n",
    "batch_size = 5\n",
    "\n",
    "\n",
    "\n",
    "while count < loop_max:\n",
    "    count += 1\n",
    "    for k in range(batch_size):\n",
    "        a = (m / batch_size) * k\n",
    "        b = (m / batch_size) * (k + 1)\n",
    "        sum_m = np.zeros(2)\n",
    "        for i in range(a,b):\n",
    "            diff = (np.dot(w, input_data[i]) - target_data[i]) * input_data[i]\n",
    "            sum_m = sum_m + diff\n",
    "        w = w - alpha * sum_m\n",
    "        error_list.append(np.sum(sum_m) ** 2)\n",
    "    if np.linalg.norm(w - error) < epsilon:\n",
    "        finish = 1\n",
    "        break\n",
    "    else:\n",
    "        error = w\n",
    "\n",
    "print 'loop count = %d' % count, '\\tw:[%f, %f]' % (w[0], w[1])\n",
    "\n",
    "#----------------------------------------------------------------------------------------------------------------------\n",
    "\n",
    "\n",
    "# check with scipy linear regression\n",
    "slope, intercept, r_value, p_value, slope_std_error = stats.linregress(x, target_data)\n",
    "print 'intercept = %s slope = %s' % (intercept, slope)\n",
    "\n",
    "plt.plot(range(len(error_list[0:100])), error_list[0:100])\n",
    "plt.show()\n",
    "\n",
    "plt.plot(x, target_data, 'k+')\n",
    "plt.plot(x, w[1] * x + w[0], 'r')\n",
    "plt.show()"
   ]
  },
  {
   "cell_type": "code",
   "execution_count": 2,
   "metadata": {
    "collapsed": true
   },
   "outputs": [],
   "source": [
    "data = pd.read_csv(\"pima-indians-diabetes.data.csv\")"
   ]
  },
  {
   "cell_type": "code",
   "execution_count": 25,
   "metadata": {},
   "outputs": [],
   "source": [
    "def read_data():\n",
    "    data_frame = pd.read_csv(\"pima-indians-diabetes.data.csv\")\n",
    "    data = data_frame.values\n",
    "    return data[:,:8], data[:,8:]"
   ]
  },
  {
   "cell_type": "code",
   "execution_count": 27,
   "metadata": {},
   "outputs": [
    {
     "name": "stdout",
     "output_type": "stream",
     "text": [
      "\u001b[H\u001b[2J"
     ]
    }
   ],
   "source": [
    "\n"
   ]
  },
  {
   "cell_type": "code",
   "execution_count": null,
   "metadata": {
    "collapsed": true
   },
   "outputs": [],
   "source": []
  }
 ],
 "metadata": {
  "kernelspec": {
   "display_name": "Python 2",
   "language": "python",
   "name": "python2"
  },
  "language_info": {
   "codemirror_mode": {
    "name": "ipython",
    "version": 2
   },
   "file_extension": ".py",
   "mimetype": "text/x-python",
   "name": "python",
   "nbconvert_exporter": "python",
   "pygments_lexer": "ipython2",
   "version": "2.7.13"
  }
 },
 "nbformat": 4,
 "nbformat_minor": 2
}
